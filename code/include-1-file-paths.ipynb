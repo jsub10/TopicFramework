{
 "cells": [
  {
   "cell_type": "markdown",
   "id": "06433f1d-6c8c-41f7-8db2-d7e64900bacc",
   "metadata": {},
   "source": [
    "# inlcude-1-file-paths\n",
    "\n",
    "- Paths to directories and files. Put this into every notebook series."
   ]
  },
  {
   "cell_type": "code",
   "execution_count": 1,
   "id": "675b8a92-6f05-4b5c-942f-00d76d03afca",
   "metadata": {},
   "outputs": [],
   "source": [
    "import os\n",
    "import glob\n",
    "import ntpath"
   ]
  },
  {
   "cell_type": "code",
   "execution_count": 2,
   "id": "b2890cd3-65df-4b58-a3e0-c56a1fe6b53b",
   "metadata": {},
   "outputs": [
    {
     "data": {
      "text/plain": [
       "'../../SharedFunctions'"
      ]
     },
     "execution_count": 2,
     "metadata": {},
     "output_type": "execute_result"
    }
   ],
   "source": [
    "# Path to the shared functions directory\n",
    "shared_dir_path = os.path.join('..', '..', 'SharedFunctions')\n",
    "shared_dir_path"
   ]
  },
  {
   "cell_type": "code",
   "execution_count": 3,
   "id": "3926de25-6d73-47fc-b50c-ad7be91894b1",
   "metadata": {},
   "outputs": [
    {
     "data": {
      "text/plain": [
       "'../data'"
      ]
     },
     "execution_count": 3,
     "metadata": {},
     "output_type": "execute_result"
    }
   ],
   "source": [
    "# Path to the data directory\n",
    "data_dir_path = os.path.join('..', 'data')\n",
    "data_dir_path"
   ]
  },
  {
   "cell_type": "code",
   "execution_count": 4,
   "id": "24b19e50-2fcc-49df-ba9b-f4da5f90beff",
   "metadata": {},
   "outputs": [
    {
     "data": {
      "text/plain": [
       "'../../images'"
      ]
     },
     "execution_count": 4,
     "metadata": {},
     "output_type": "execute_result"
    }
   ],
   "source": [
    "# # Path to the images directory\n",
    "# image_dir_path = os.path.join('..', '..', 'images')\n",
    "# image_dir_path"
   ]
  },
  {
   "cell_type": "code",
   "execution_count": 6,
   "id": "b8af9bef-abe6-4824-b5a8-a7a259d28004",
   "metadata": {},
   "outputs": [
    {
     "data": {
      "text/plain": [
       "'../pickled'"
      ]
     },
     "execution_count": 6,
     "metadata": {},
     "output_type": "execute_result"
    }
   ],
   "source": [
    "# Path to the pickled directory (place to store corpora, dictionaries, etc.)\n",
    "pickled_dir_path = os.path.join('..', 'pickled')\n",
    "pickled_dir_path"
   ]
  },
  {
   "cell_type": "code",
   "execution_count": 7,
   "id": "4dc1eb6e-7199-43c6-9e8b-a7e88ebe400a",
   "metadata": {},
   "outputs": [
    {
     "data": {
      "text/plain": [
       "'../reports'"
      ]
     },
     "execution_count": 7,
     "metadata": {},
     "output_type": "execute_result"
    }
   ],
   "source": [
    "# # Path to the presentations directory\n",
    "# prez_dir_path = os.path.join('..', 'reports')\n",
    "# prez_dir_path"
   ]
  },
  {
   "cell_type": "code",
   "execution_count": 8,
   "id": "72c121b5-7027-4ec6-8536-8db6b8695ec5",
   "metadata": {},
   "outputs": [],
   "source": [
    "# Variables exposed by this include file\n",
    "vars_exposed = {'shared_dir_path': shared_dir_path,\n",
    "                'data_dir_path': data_dir_path,\n",
    "                'pickled_dir_path': pickled_dir_path\n",
    "                }"
   ]
  },
  {
   "cell_type": "code",
   "execution_count": null,
   "id": "b97026d3-9ed5-4a74-a617-aaa8da1caf81",
   "metadata": {},
   "outputs": [],
   "source": []
  }
 ],
 "metadata": {
  "kernelspec": {
   "display_name": "Python 3 (ipykernel)",
   "language": "python",
   "name": "python3"
  },
  "language_info": {
   "codemirror_mode": {
    "name": "ipython",
    "version": 3
   },
   "file_extension": ".py",
   "mimetype": "text/x-python",
   "name": "python",
   "nbconvert_exporter": "python",
   "pygments_lexer": "ipython3",
   "version": "3.9.12"
  }
 },
 "nbformat": 4,
 "nbformat_minor": 5
}
